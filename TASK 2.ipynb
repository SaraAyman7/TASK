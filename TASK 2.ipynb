{
  "nbformat": 4,
  "nbformat_minor": 0,
  "metadata": {
    "colab": {
      "provenance": []
    },
    "kernelspec": {
      "name": "python3",
      "display_name": "Python 3"
    },
    "language_info": {
      "name": "python"
    }
  },
  "cells": [
    {
      "cell_type": "code",
      "execution_count": 1,
      "metadata": {
        "colab": {
          "base_uri": "https://localhost:8080/"
        },
        "id": "eSsOWZU2r1uc",
        "outputId": "07cce854-a84f-4401-f49f-feac388b5663"
      },
      "outputs": [
        {
          "output_type": "stream",
          "name": "stdout",
          "text": [
            "Predicted value: 0.25\n"
          ]
        }
      ],
      "source": [
        "import numpy as np\n",
        "\n",
        "# Sigmoid activation function\n",
        "def sigmoid(x):\n",
        "    return 1 / (1 + np.exp(-x))\n",
        "\n",
        "# Hyperbolic tangent activation function\n",
        "def tanh(x):\n",
        "    return np.tanh(x)\n",
        "\n",
        "# LSTM class\n",
        "class LSTM:\n",
        "    def __init__(self, input_dim=1, hidden_dim=1):\n",
        "        # Initialize parameters\n",
        "        self.input_dim = input_dim\n",
        "        self.hidden_dim = hidden_dim\n",
        "\n",
        "        # Weights\n",
        "        self.Wf = np.random.rand(hidden_dim, input_dim)  # Forget gate weights\n",
        "        self.Uf = np.random.rand(hidden_dim, hidden_dim) # Hidden state weights\n",
        "        self.bf = np.random.rand(hidden_dim)              # Forget gate bias\n",
        "\n",
        "        self.Wi = np.random.rand(hidden_dim, input_dim)  # Input gate weights\n",
        "        self.Ui = np.random.rand(hidden_dim, hidden_dim) # Hidden state weights\n",
        "        self.bi = np.random.rand(hidden_dim)              # Input gate bias\n",
        "\n",
        "        self.Wc = np.random.rand(hidden_dim, input_dim)  # Candidate weights\n",
        "        self.Uc = np.random.rand(hidden_dim, hidden_dim) # Hidden state weights\n",
        "        self.bc = np.random.rand(hidden_dim)              # Candidate bias\n",
        "\n",
        "        self.Wo = np.random.rand(hidden_dim, input_dim)  # Output gate weights\n",
        "        self.Uo = np.random.rand(hidden_dim, hidden_dim) # Hidden state weights\n",
        "        self.bo = np.random.rand(hidden_dim)              # Output gate bias\n",
        "\n",
        "        # Initial states\n",
        "        self.h = np.zeros((hidden_dim,))\n",
        "        self.C = np.zeros((hidden_dim,))\n",
        "\n",
        "    def forward(self, x):\n",
        "        # Forward pass for each time step\n",
        "        for t in range(len(x)):\n",
        "            # Forget gate\n",
        "            ft = sigmoid(np.dot(self.Wf, x[t]) + np.dot(self.Uf, self.h) + self.bf)\n",
        "            # Input gate\n",
        "            it = sigmoid(np.dot(self.Wi, x[t]) + np.dot(self.Ui, self.h) + self.bi)\n",
        "            # Candidate cell state\n",
        "            ct_tilde = tanh(np.dot(self.Wc, x[t]) + np.dot(self.Uc, self.h) + self.bc)\n",
        "            # Cell state update\n",
        "            self.C = ft * self.C + it * ct_tilde\n",
        "            # Output gate\n",
        "            ot = sigmoid(np.dot(self.Wo, x[t]) + np.dot(self.Uo, self.h) + self.bo)\n",
        "            # Hidden state update\n",
        "            self.h = ot * tanh(self.C)\n",
        "\n",
        "        return self.h  # Return the last hidden state\n",
        "\n",
        "\n",
        "input_sequence = np.array([[1], [2], [3], [4]])  # Input sequence\n",
        "lstm = LSTM(input_dim=1, hidden_dim=1)\n",
        "\n",
        "# Forward pass\n",
        "output = lstm.forward(input_sequence)\n",
        "\n",
        "# Linear transformation to predict the next value\n",
        "W_y = np.random.rand(1, 1)  # Output weight\n",
        "b_y = np.random.rand(1)      # Output bias\n",
        "predicted_value = np.dot(W_y, output) + b_y\n",
        "\n",
        "print(f\"Predicted value: {predicted_value.flatten()[0]:.2f}\")"
      ]
    },
    {
      "cell_type": "code",
      "source": [],
      "metadata": {
        "id": "L5Qb02Gnr8zz"
      },
      "execution_count": null,
      "outputs": []
    }
  ]
}