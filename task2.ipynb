{
  "nbformat": 4,
  "nbformat_minor": 0,
  "metadata": {
    "colab": {
      "provenance": []
    },
    "kernelspec": {
      "name": "python3",
      "display_name": "Python 3"
    },
    "language_info": {
      "name": "python"
    }
  },
  "cells": [
    {
      "cell_type": "code",
      "execution_count": 1,
      "metadata": {
        "colab": {
          "base_uri": "https://localhost:8080/"
        },
        "id": "wUwx6ldZ92Te",
        "outputId": "38f1f868-7b98-4c08-d0b7-6603e7e10b6e"
      },
      "outputs": [
        {
          "output_type": "stream",
          "name": "stdout",
          "text": [
            "After input 1: h = 0.256, c = 0.390\n",
            "After input 2: h = 0.640, c = 0.988\n",
            "After input 3: h = 0.871, c = 1.672\n",
            "Predicted next value: 0.871\n"
          ]
        }
      ],
      "source": [
        "import numpy as np\n",
        "\n",
        "# Activation functions\n",
        "def sigmoid(x):\n",
        "    return 1 / (1 + np.exp(-x))\n",
        "\n",
        "def tanh(x):\n",
        "    return np.tanh(x)\n",
        "\n",
        "# LSTM parameters\n",
        "Wf = 0.5  # Forget gate weight\n",
        "Wi = 0.6  # Input gate weight\n",
        "Wc = 0.7  # Candidate cell state weight\n",
        "Wo = 0.8  # Output gate weight\n",
        "\n",
        "bf = 0.0  # Forget gate bias\n",
        "bi = 0.0  # Input gate bias\n",
        "bc = 0.0  # Candidate cell state bias\n",
        "bo = 0.0  # Output gate bias\n",
        "\n",
        "# Initialize states\n",
        "h = 0.0  # Initial hidden state\n",
        "c = 0.0  # Initial cell state\n",
        "\n",
        "# Input sequence\n",
        "inputs = [1, 2, 3]\n",
        "\n",
        "# Function to perform LSTM operations for one time step\n",
        "def lstm_step(x, h_prev, c_prev):\n",
        "    # Forget gate\n",
        "    f = sigmoid(Wf * x + 0.1 * h_prev + bf)\n",
        "\n",
        "    # Input gate\n",
        "    i = sigmoid(Wi * x + 0.2 * h_prev + bi)\n",
        "\n",
        "    # Candidate cell state\n",
        "    c_hat = tanh(Wc * x + 0.3 * h_prev + bc)\n",
        "\n",
        "    # Cell state update\n",
        "    c_new = f * c_prev + i * c_hat\n",
        "\n",
        "    # Output gate\n",
        "    o = sigmoid(Wo * x + 0.4 * h_prev + bo)\n",
        "\n",
        "    # Hidden state update\n",
        "    h_new = o * tanh(c_new)\n",
        "\n",
        "    return h_new, c_new\n",
        "\n",
        "# Process each input\n",
        "for x in inputs:\n",
        "    h, c = lstm_step(x, h, c)\n",
        "    print(f\"After input {x}: h = {h:.3f}, c = {c:.3f}\")\n",
        "\n",
        "# Final prediction based on the last hidden state\n",
        "W_hy = 1.0  # Weight for the output\n",
        "b_y = 0.0   # Bias for the output\n",
        "\n",
        "# Predict next value\n",
        "predicted_value = W_hy * h + b_y\n",
        "print(f\"Predicted next value: {predicted_value:.3f}\")"
      ]
    },
    {
      "cell_type": "code",
      "source": [],
      "metadata": {
        "id": "5aGetLtA-GJm"
      },
      "execution_count": null,
      "outputs": []
    }
  ]
}